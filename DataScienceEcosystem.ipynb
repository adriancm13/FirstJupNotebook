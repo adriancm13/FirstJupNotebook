{
 "cells": [
  {
   "cell_type": "markdown",
   "id": "7ab77ea2-5b75-478a-8db0-d71a1dcc22da",
   "metadata": {
    "tags": []
   },
   "source": [
    "# Data Science Tools and Ecosystem"
   ]
  },
  {
   "cell_type": "markdown",
   "id": "11c335d8-3c70-440a-b414-ba0c5528789a",
   "metadata": {},
   "source": [
    "In this notebok, Data Science Tools and Ecosystems are summarized."
   ]
  },
  {
   "cell_type": "markdown",
   "id": "449abd8b-f6b1-4284-a610-74410bbd36c9",
   "metadata": {},
   "source": [
    "__Objectives:__\n",
    "\n",
    "- Popular DS Languages\n",
    "- Common used libraries\n",
    "- Data Science Tools\n",
    "- Arithmetic Expressions"
   ]
  },
  {
   "cell_type": "markdown",
   "id": "f1d29363-2367-4d26-ac5a-8d6c7ee51b7d",
   "metadata": {},
   "source": [
    "Some of the popular languages that Data Scientists use are:\n",
    "1. C++\n",
    "2. C\n",
    "3. Java\n",
    "4. JavaScript\n",
    "5. Python\n",
    "6. R "
   ]
  },
  {
   "cell_type": "markdown",
   "id": "b09e7692-5cdb-4250-abc3-9afbfa1825a9",
   "metadata": {},
   "source": [
    "Some of the commonly used libraries used by Data Scientists include:\n",
    "- Pandas\n",
    "- NumPY\n",
    "- Keras\n",
    "- TensorFlow\n",
    "- Pytorch"
   ]
  },
  {
   "cell_type": "markdown",
   "id": "f88e9de8-454d-44bb-932c-f3921b1f2d5b",
   "metadata": {
    "tags": []
   },
   "source": [
    "| Data Science Tools|\n",
    "| -------------|\n",
    "| JupyterLabs |\n",
    "| Spyder |\n",
    "| Google Colab |\n",
    "\n"
   ]
  },
  {
   "cell_type": "markdown",
   "id": "a985b919-58e9-41f7-8599-2fc90b4a5edd",
   "metadata": {},
   "source": [
    "### Below are few examples of evaluating arithmetic expressions in Python"
   ]
  },
  {
   "cell_type": "code",
   "execution_count": 4,
   "id": "8345ac88-4c3e-4819-bf86-8b3fda2f12d7",
   "metadata": {
    "tags": []
   },
   "outputs": [
    {
     "data": {
      "text/plain": [
       "17"
      ]
     },
     "execution_count": 4,
     "metadata": {},
     "output_type": "execute_result"
    }
   ],
   "source": [
    "\"This is a simple arithmetic expression to multiply then add integers\"\n",
    "(3*4)+5"
   ]
  },
  {
   "cell_type": "code",
   "execution_count": 5,
   "id": "af653c74-39f9-4be0-bdf3-18919079dd40",
   "metadata": {
    "tags": []
   },
   "outputs": [
    {
     "data": {
      "text/plain": [
       "3.3333333333333335"
      ]
     },
     "execution_count": 5,
     "metadata": {},
     "output_type": "execute_result"
    }
   ],
   "source": [
    "\"This will convert 200 minutes to hours by dividing by 60\"\n",
    "200/60"
   ]
  },
  {
   "cell_type": "markdown",
   "id": "df8d2287-1c3e-4532-98e4-fb7bfe7b4788",
   "metadata": {},
   "source": [
    "## Author\n",
    "Adrian Corona"
   ]
  }
 ],
 "metadata": {
  "kernelspec": {
   "display_name": "Python",
   "language": "python",
   "name": "conda-env-python-py"
  },
  "language_info": {
   "codemirror_mode": {
    "name": "ipython",
    "version": 3
   },
   "file_extension": ".py",
   "mimetype": "text/x-python",
   "name": "python",
   "nbconvert_exporter": "python",
   "pygments_lexer": "ipython3",
   "version": "3.7.12"
  }
 },
 "nbformat": 4,
 "nbformat_minor": 5
}
